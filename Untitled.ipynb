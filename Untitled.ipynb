{
 "cells": [
  {
   "cell_type": "code",
   "execution_count": 1,
   "id": "e12dc831",
   "metadata": {},
   "outputs": [],
   "source": [
    "import json\n",
    "\n",
    "def load_annotations(annotation_file):\n",
    "    with open(annotation_file, 'r') as file:\n",
    "        annotations = json.load(file)\n",
    "    return annotations\n",
    "\n",
    "# Example usage\n",
    "annotations = load_annotations('instances_default.json')\n"
   ]
  },
  {
   "cell_type": "code",
   "execution_count": 2,
   "id": "d2cc7010",
   "metadata": {
    "scrolled": true
   },
   "outputs": [],
   "source": [
    "import cv2\n",
    "import os\n",
    "\n",
    "def extract_frames_with_annotations(video_path, annotation_file, output_folder, frame_rate=1):\n",
    "    # Load annotations\n",
    "    annotations = load_annotations(annotation_file)\n",
    "    \n",
    "    os.makedirs(output_folder, exist_ok=True)\n",
    "    video_capture = cv2.VideoCapture(video_path)\n",
    "    count = 0\n",
    "    success, image = video_capture.read()\n",
    "    annotation_index = 0\n",
    "\n",
    "    while success:\n",
    "        if count % frame_rate == 0:\n",
    "            frame_filename = os.path.join(output_folder, f\"frame_{count}.jpg\")\n",
    "            cv2.imwrite(frame_filename, image)\n",
    "            \n",
    "            # Check if there is an annotation for this frame\n",
    "            if annotation_index < len(annotations[\"annotations\"]) and annotations[\"annotations\"][annotation_index][\"frame\"] == count:\n",
    "                annotation = annotations[\"annotations\"][annotation_index]\n",
    "                annotation_index += 1\n",
    "                # Process the annotation (e.g., save bounding box information)\n",
    "                bbox = annotation[\"bbox\"]\n",
    "                label = annotation[\"label\"]\n",
    "                # Here, you can save or process the annotation as needed\n",
    "                \n",
    "        success, image = video_capture.read()\n",
    "        count += 1\n",
    "\n",
    "    video_capture.release()\n",
    "\n",
    "# Example usage\n",
    "extract_frames_with_annotations('skullcrush.mp4', 'instances_default.json', 'output_frames_folder', frame_rate=30)\n"
   ]
  },
  {
   "cell_type": "code",
   "execution_count": 3,
   "id": "cfcb30a6",
   "metadata": {},
   "outputs": [],
   "source": [
    "from PIL import Image\n",
    "import numpy as np\n",
    "\n",
    "def preprocess_image(image_path, output_size=(224, 224)):\n",
    "    image = Image.open(image_path)\n",
    "    image = image.resize(output_size)\n",
    "    image_array = np.array(image) / 255.0  # Normalizing to [0, 1] range\n",
    "    return image_array\n",
    "\n",
    "# Example usage\n",
    "processed_image = preprocess_image('output_frames_folder/frame_0.jpg')\n"
   ]
  },
  {
   "cell_type": "code",
   "execution_count": 4,
   "id": "dcff073b",
   "metadata": {},
   "outputs": [],
   "source": [
    "import numpy as np\n",
    "\n",
    "def save_preprocessed_data(images, annotations, output_folder):\n",
    "    os.makedirs(output_folder, exist_ok=True)\n",
    "    np.save(os.path.join(output_folder, 'images.npy'), images)\n",
    "    np.save(os.path.join(output_folder, 'annotations.npy'), annotations)\n",
    "\n",
    "# Example usage\n",
    "processed_images = [preprocess_image(f'output_frames_folder/frame_{i}.jpg') for i in range(len(annotations[\"annotations\"]))]\n",
    "save_preprocessed_data(processed_images, annotations[\"annotations\"], 'preprocessed_data')\n"
   ]
  },
  {
   "cell_type": "code",
   "execution_count": 6,
   "id": "c11b4a38",
   "metadata": {},
   "outputs": [],
   "source": [
    "import cv2"
   ]
  },
  {
   "cell_type": "code",
   "execution_count": 7,
   "id": "260f11e5",
   "metadata": {},
   "outputs": [
    {
     "ename": "ModuleNotFoundError",
     "evalue": "No module named 'openpose'",
     "output_type": "error",
     "traceback": [
      "\u001b[0;31m---------------------------------------------------------------------------\u001b[0m",
      "\u001b[0;31mModuleNotFoundError\u001b[0m                       Traceback (most recent call last)",
      "\u001b[0;32m/var/folders/yj/gmf4bhw56xnfl99bms3kng3c0000gn/T/ipykernel_29626/4228538720.py\u001b[0m in \u001b[0;36m<module>\u001b[0;34m\u001b[0m\n\u001b[0;32m----> 1\u001b[0;31m \u001b[0;32mfrom\u001b[0m \u001b[0mopenpose\u001b[0m \u001b[0;32mimport\u001b[0m \u001b[0mpyopenpose\u001b[0m \u001b[0;32mas\u001b[0m \u001b[0mop\u001b[0m\u001b[0;34m\u001b[0m\u001b[0;34m\u001b[0m\u001b[0m\n\u001b[0m",
      "\u001b[0;31mModuleNotFoundError\u001b[0m: No module named 'openpose'"
     ]
    }
   ],
   "source": [
    "from openpose import pyopenpose as op"
   ]
  },
  {
   "cell_type": "code",
   "execution_count": 5,
   "id": "d37b3118",
   "metadata": {},
   "outputs": [
    {
     "ename": "ModuleNotFoundError",
     "evalue": "No module named 'openpose'",
     "output_type": "error",
     "traceback": [
      "\u001b[0;31m---------------------------------------------------------------------------\u001b[0m",
      "\u001b[0;31mModuleNotFoundError\u001b[0m                       Traceback (most recent call last)",
      "\u001b[0;32m/var/folders/yj/gmf4bhw56xnfl99bms3kng3c0000gn/T/ipykernel_29626/1934556401.py\u001b[0m in \u001b[0;36m<module>\u001b[0;34m\u001b[0m\n\u001b[1;32m      1\u001b[0m \u001b[0;32mimport\u001b[0m \u001b[0mcv2\u001b[0m\u001b[0;34m\u001b[0m\u001b[0;34m\u001b[0m\u001b[0m\n\u001b[1;32m      2\u001b[0m \u001b[0;32mimport\u001b[0m \u001b[0mnumpy\u001b[0m \u001b[0;32mas\u001b[0m \u001b[0mnp\u001b[0m\u001b[0;34m\u001b[0m\u001b[0;34m\u001b[0m\u001b[0m\n\u001b[0;32m----> 3\u001b[0;31m \u001b[0;32mfrom\u001b[0m \u001b[0mopenpose\u001b[0m \u001b[0;32mimport\u001b[0m \u001b[0mpyopenpose\u001b[0m \u001b[0;32mas\u001b[0m \u001b[0mop\u001b[0m\u001b[0;34m\u001b[0m\u001b[0;34m\u001b[0m\u001b[0m\n\u001b[0m\u001b[1;32m      4\u001b[0m \u001b[0;34m\u001b[0m\u001b[0m\n\u001b[1;32m      5\u001b[0m \u001b[0mparams\u001b[0m \u001b[0;34m=\u001b[0m \u001b[0mdict\u001b[0m\u001b[0;34m(\u001b[0m\u001b[0;34m)\u001b[0m\u001b[0;34m\u001b[0m\u001b[0;34m\u001b[0m\u001b[0m\n",
      "\u001b[0;31mModuleNotFoundError\u001b[0m: No module named 'openpose'"
     ]
    }
   ],
   "source": [
    "import cv2\n",
    "\n",
    "from openpose import pyopenpose as op\n",
    "\n",
    "params = dict()\n",
    "params[\"model_folder\"] = \"path_to_openpose_models\"\n",
    "\n",
    "# Starting OpenPose\n",
    "opWrapper = op.WrapperPython()\n",
    "opWrapper.configure(params)\n",
    "opWrapper.start()\n",
    "\n",
    "def get_keypoints(image_path):\n",
    "    datum = op.Datum()\n",
    "    image = cv2.imread(image_path)\n",
    "    datum.cvInputData = image\n",
    "    opWrapper.emplaceAndPop([datum])\n",
    "\n",
    "    return datum.poseKeypoints\n",
    "\n",
    "# Example usage\n",
    "keypoints = get_keypoints('output_frames_folder/frame_0.jpg')\n",
    "print(keypoints)\n"
   ]
  },
  {
   "cell_type": "code",
   "execution_count": null,
   "id": "0550c947",
   "metadata": {},
   "outputs": [],
   "source": []
  }
 ],
 "metadata": {
  "kernelspec": {
   "display_name": "Python 3 (ipykernel)",
   "language": "python",
   "name": "python3"
  },
  "language_info": {
   "codemirror_mode": {
    "name": "ipython",
    "version": 3
   },
   "file_extension": ".py",
   "mimetype": "text/x-python",
   "name": "python",
   "nbconvert_exporter": "python",
   "pygments_lexer": "ipython3",
   "version": "3.9.13"
  }
 },
 "nbformat": 4,
 "nbformat_minor": 5
}
